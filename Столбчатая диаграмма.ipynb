{
 "cells": [
  {
   "cell_type": "markdown",
   "id": "274f4acf",
   "metadata": {},
   "source": [
    "Постройте столбчатую диаграмму по следующим данным: в доме 200 квартир, из них 30% однокомнатные, 20% - двукомнатные , 45% - трехкомнатные, а остальные четырехкомнатные."
   ]
  },
  {
   "cell_type": "code",
   "execution_count": null,
   "id": "51a16f9f",
   "metadata": {},
   "outputs": [],
   "source": [
    "import matplotlib.pyplot as plt\n",
    "%matplotlib inline\n",
    "\n",
    "plt.figure(figsize=(12, 7))\n",
    "Country = ['1-комнатные', '2-комнатные', '3-комнатные', '4-комнатные']\n",
    "Popular = [60,40]\n",
    "\n",
    "plt.bar(Apartments, Quantity)"
   ]
  }
 ],
 "metadata": {
  "kernelspec": {
   "display_name": "Python 3",
   "language": "python",
   "name": "python3"
  },
  "language_info": {
   "codemirror_mode": {
    "name": "ipython",
    "version": 3
   },
   "file_extension": ".py",
   "mimetype": "text/x-python",
   "name": "python",
   "nbconvert_exporter": "python",
   "pygments_lexer": "ipython3",
   "version": "3.8.8"
  }
 },
 "nbformat": 4,
 "nbformat_minor": 5
}
